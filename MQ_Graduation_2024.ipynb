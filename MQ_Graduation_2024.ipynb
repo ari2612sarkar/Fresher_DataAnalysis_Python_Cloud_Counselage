{
 "cells": [
  {
   "cell_type": "code",
   "execution_count": 1,
   "id": "c768f267",
   "metadata": {},
   "outputs": [],
   "source": [
    "#QUESTION 14\n",
    "#HOW MANY STUDENTS ARE GRADUATING BY THE END OF 2024?"
   ]
  },
  {
   "cell_type": "code",
   "execution_count": 2,
   "id": "846fa8ad",
   "metadata": {},
   "outputs": [
    {
     "name": "stdout",
     "output_type": "stream",
     "text": [
      "Total number of students graduating by the end of 2024: 3047\n"
     ]
    }
   ],
   "source": [
    "import pandas as pd\n",
    "\n",
    "df= pd.read_excel(r\"C:\\Users\\TUF\\Downloads\\Data analyst Data (1).xlsx\")\n",
    "\n",
    "df['Year of Graduation'] = pd.to_numeric(df['Year of Graduation'], errors='coerce')\n",
    "\n",
    "students_with_valid_graduation_year = df.dropna(subset=['Year of Graduation'])\n",
    "\n",
    "#Filter for graduation years less than or equal to 2024\n",
    "students_until_2024 = students_with_valid_graduation_year[students_with_valid_graduation_year['Year of Graduation'] <= 2024]\n",
    "\n",
    "#Sum of students graduating by the end of 2024\n",
    "total_students_until_2024 = students_until_2024['Year of Graduation'].value_counts().sum()\n",
    "\n",
    "print(f\"Total number of students graduating by the end of 2024: {total_students_until_2024}\")\n"
   ]
  },
  {
   "cell_type": "code",
   "execution_count": null,
   "id": "4f617f07",
   "metadata": {},
   "outputs": [],
   "source": []
  }
 ],
 "metadata": {
  "kernelspec": {
   "display_name": "Python 3 (ipykernel)",
   "language": "python",
   "name": "python3"
  },
  "language_info": {
   "codemirror_mode": {
    "name": "ipython",
    "version": 3
   },
   "file_extension": ".py",
   "mimetype": "text/x-python",
   "name": "python",
   "nbconvert_exporter": "python",
   "pygments_lexer": "ipython3",
   "version": "3.11.7"
  }
 },
 "nbformat": 4,
 "nbformat_minor": 5
}
